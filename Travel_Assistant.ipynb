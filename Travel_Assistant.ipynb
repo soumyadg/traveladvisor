{
 "cells": [
  {
   "cell_type": "markdown",
   "id": "654c9682",
   "metadata": {},
   "source": [
    "## Importing Libraries"
   ]
  },
  {
   "cell_type": "code",
   "execution_count": 1,
   "id": "d32662aa",
   "metadata": {},
   "outputs": [],
   "source": [
    "from langchain.llms import OpenAI\n",
    "import os\n",
    "os.environ['OPENAI_API_KEY'] = 'OpenAI Key'\n",
    "OPENAI_API_KEY='OpenAI Key'\n",
    "llm = OpenAI(openai_api_key=OPENAI_API_KEY)"
   ]
  },
  {
   "cell_type": "code",
   "execution_count": 2,
   "id": "5d62956c",
   "metadata": {},
   "outputs": [],
   "source": [
    "from langchain.prompts import (ChatPromptTemplate,PromptTemplate,SystemMessagePromptTemplate,\n",
    "    AIMessagePromptTemplate,HumanMessagePromptTemplate)\n",
    "\n",
    "from langchain.schema import (AIMessage,HumanMessage,SystemMessage)"
   ]
  },
  {
   "cell_type": "code",
   "execution_count": 3,
   "id": "de909491",
   "metadata": {},
   "outputs": [],
   "source": [
    "system_template=\"You are an AI assistant that is a {travel_planner} for people who has a {certain_budget}.\"\n",
    "system_message_prompt = SystemMessagePromptTemplate.from_template(system_template)"
   ]
  },
  {
   "cell_type": "code",
   "execution_count": 4,
   "id": "ee9796e3",
   "metadata": {},
   "outputs": [],
   "source": [
    "human_template=\"{destination}\"\n",
    "human_message_prompt = HumanMessagePromptTemplate.from_template(human_template)"
   ]
  },
  {
   "cell_type": "code",
   "execution_count": 5,
   "id": "5ab72912",
   "metadata": {},
   "outputs": [],
   "source": [
    "chat_prompt = ChatPromptTemplate.from_messages([system_message_prompt, human_message_prompt])"
   ]
  },
  {
   "cell_type": "code",
   "execution_count": 6,
   "id": "e898e923",
   "metadata": {},
   "outputs": [],
   "source": [
    "from langchain.chat_models import ChatOpenAI\n",
    "chat = ChatOpenAI(openai_api_key=OPENAI_API_KEY)"
   ]
  },
  {
   "cell_type": "markdown",
   "id": "dba1ee07",
   "metadata": {},
   "source": [
    "## Travel Recommendation"
   ]
  },
  {
   "cell_type": "code",
   "execution_count": 7,
   "id": "568bf37c",
   "metadata": {},
   "outputs": [],
   "source": [
    "def travelgpt_placetovisit(certain_budget,destination,days):\n",
    "    '''\n",
    "    INPUTS:\n",
    "        destination: Preferable destination\n",
    "        budget: A str budget (e.g. $10,000)\n",
    "        days: Number of days for the trip\n",
    "    '''\n",
    "    system_template=\"You are an AI travel planning assistant that generates plan for people in {destination} who has a budget of {certain_budget} for {days} days.\"\n",
    "    system_message_prompt = SystemMessagePromptTemplate.from_template(system_template)\n",
    "    human_template=\"{travel_help_request}\"\n",
    "    human_message_prompt = HumanMessagePromptTemplate.from_template(human_template)\n",
    "    chat_prompt = ChatPromptTemplate.from_messages([system_message_prompt, human_message_prompt])\n",
    "    request = chat_prompt.format_prompt(certain_budget=certain_budget, \n",
    "                                        destination=destination,\n",
    "                                        days=days,\n",
    "                                    travel_help_request=\"Please give me an travel itinerary\").to_messages()\n",
    "    \n",
    "    chat = ChatOpenAI(openai_api_key=OPENAI_API_KEY)\n",
    "    result = chat(request)\n",
    "    return print(result.content)"
   ]
  },
  {
   "cell_type": "code",
   "execution_count": 8,
   "id": "7ca422df",
   "metadata": {},
   "outputs": [
    {
     "name": "stdout",
     "output_type": "stream",
     "text": [
      "Day 1: Arrival in Belfast\n",
      "- Arrive at Belfast International Airport and transfer to your hotel.\n",
      "- Explore the vibrant city of Belfast, starting with a visit to the Titanic Belfast museum, which tells the story of the ill-fated RMS Titanic.\n",
      "- Take a stroll through the Titanic Quarter and visit the SS Nomadic, the last remaining White Star Line ship.\n",
      "\n",
      "Day 2: Belfast City Tour\n",
      "- Begin the day with a guided tour of Belfast City Hall to learn about the city's history and architecture.\n",
      "- Visit the Ulster Museum, which houses extensive collections of art, history, and natural sciences.\n",
      "- Walk along the Peace Walls, which separate Catholic and Protestant neighborhoods, and learn about the Troubles.\n",
      "\n",
      "Day 3: Giant's Causeway and Carrick-a-Rede Rope Bridge\n",
      "- Take a day trip to the stunning North Coast of Northern Ireland.\n",
      "- Visit the UNESCO World Heritage Site, Giant's Causeway, and marvel at the unique hexagonal rock formations.\n",
      "- If you're feeling adventurous, cross the Carrick-a-Rede Rope Bridge for breathtaking views of the coastline.\n",
      "\n",
      "Day 4: Derry/Londonderry\n",
      "- Travel to the historic city of Derry/Londonderry.\n",
      "- Explore the well-preserved city walls, built in the 17th century.\n",
      "- Visit the Museum of Free Derry to learn about the city's troubled past during the Troubles.\n",
      "\n",
      "Day 5: County Fermanagh and Enniskillen\n",
      "- Drive to County Fermanagh and visit Enniskillen, a charming town situated between two lakes.\n",
      "- Explore Enniskillen Castle, which houses the Fermanagh County Museum.\n",
      "- Take a boat trip on Lough Erne and enjoy the beautiful scenery.\n",
      "\n",
      "Day 6: Mourne Mountains and Newcastle\n",
      "- Head south to the picturesque Mourne Mountains.\n",
      "- Go hiking or take a scenic drive through the stunning mountain range.\n",
      "- Visit the seaside town of Newcastle and take a walk along its sandy beach.\n",
      "\n",
      "Day 7: Armagh\n",
      "- Visit the city of Armagh, known as the ecclesiastical capital of Ireland.\n",
      "- Explore the historic St. Patrick's Cathedral and the Armagh Observatory.\n",
      "- Take a stroll through the beautiful Palace Demesne Park.\n",
      "\n",
      "Day 8: Downpatrick and Saint Patrick's Trail\n",
      "- Visit Downpatrick, the burial place of Saint Patrick, Ireland's patron saint.\n",
      "- Explore the Saint Patrick Centre and learn about the life and legacy of the saint.\n",
      "- Follow the Saint Patrick's Trail and visit key sites associated with the saint, such as Struell Wells and Saul Church.\n",
      "\n",
      "Day 9: Belfast Castle and Botanic Gardens\n",
      "- Return to Belfast and visit Belfast Castle, located in Cave Hill Country Park.\n",
      "- Enjoy panoramic views of the city from the castle grounds.\n",
      "- Explore the nearby Botanic Gardens, home to the Palm House and the Tropical Ravine.\n",
      "\n",
      "Day 10: Departure\n",
      "- Take some time to explore any remaining attractions or do some last-minute shopping.\n",
      "- Depart from Belfast International Airport, marking the end of your Northern Ireland adventure.\n",
      "\n",
      "Please note that this itinerary provides a general outline and can be customized based on your specific interests and preferences.\n"
     ]
    }
   ],
   "source": [
    "travelgpt_placetovisit(500,'Northern Ireland',10)"
   ]
  },
  {
   "cell_type": "markdown",
   "id": "a0cb2e0c",
   "metadata": {},
   "source": [
    "## Food Recommendation"
   ]
  },
  {
   "cell_type": "code",
   "execution_count": 9,
   "id": "b625e897",
   "metadata": {},
   "outputs": [],
   "source": [
    "def travelgpt_food(certain_budget,destination):\n",
    "    \n",
    "    '''\n",
    "    INPUTS:\n",
    "        destination: preferable destination\n",
    "        certain_budget: a str budget (e.g. $10,000)\n",
    "        breakfast: cuisine\n",
    "        lunch:cuisine\n",
    "        dinner:cuisine\n",
    "    '''\n",
    "    \n",
    "    system_template=\"You are an AI travel that generates restaurant recomendations for people in {destination} who has a budget of {certain_budget} to spend on food.\"\n",
    "    system_message_prompt = SystemMessagePromptTemplate.from_template(system_template)\n",
    "    human_template=\"{travel_food_request}\"\n",
    "    human_message_prompt = HumanMessagePromptTemplate.from_template(human_template)\n",
    "    chat_prompt = ChatPromptTemplate.from_messages([system_message_prompt, human_message_prompt])\n",
    "    request = chat_prompt.format_prompt(certain_budget=certain_budget, \n",
    "                                        destination=destination,\n",
    "                                        travel_food_request=\"Please give me food recommendation\").to_messages()\n",
    "    chat = ChatOpenAI(openai_api_key=OPENAI_API_KEY)\n",
    "    result = chat(request)\n",
    "    return print(result.content)"
   ]
  },
  {
   "cell_type": "code",
   "execution_count": 10,
   "id": "ef2fd1b4",
   "metadata": {},
   "outputs": [
    {
     "name": "stdout",
     "output_type": "stream",
     "text": [
      "Certainly! Here are three restaurant recommendations in Eastham that offer delicious food within a budget of $50:\n",
      "\n",
      "1. The Friendly Fisherman: Located at 4580 State Hwy, The Friendly Fisherman is a casual seafood restaurant known for its fresh seafood dishes. With a diverse menu that includes options like clam chowder, lobster rolls, and fried fish platters, you can enjoy a satisfying meal within your budget.\n",
      "\n",
      "2. Arnold's Lobster & Clam Bar: Situated at 3580 State Hwy, Arnold's Lobster & Clam Bar is a popular spot for seafood lovers. They offer a range of seafood dishes, including fried clams, lobster rolls, and fish tacos. The casual atmosphere and generous portion sizes make it an excellent choice for a budget-friendly meal.\n",
      "\n",
      "3. Karoo Restaurant: Located at 3 Main St, Karoo Restaurant specializes in South African cuisine. With a unique fusion of flavors and dishes like bobotie (a traditional South African dish), peri-peri chicken, and flavorful curries, Karoo offers an exciting dining experience within your budget.\n",
      "\n",
      "Please note that prices may vary, so it's always a good idea to check the menu and prices beforehand. Enjoy your meal!\n"
     ]
    }
   ],
   "source": [
    "travelgpt_food(50,'Eastham')"
   ]
  },
  {
   "cell_type": "code",
   "execution_count": null,
   "id": "196c9779",
   "metadata": {},
   "outputs": [],
   "source": []
  }
 ],
 "metadata": {
  "kernelspec": {
   "display_name": "Python 3 (ipykernel)",
   "language": "python",
   "name": "python3"
  },
  "language_info": {
   "codemirror_mode": {
    "name": "ipython",
    "version": 3
   },
   "file_extension": ".py",
   "mimetype": "text/x-python",
   "name": "python",
   "nbconvert_exporter": "python",
   "pygments_lexer": "ipython3",
   "version": "3.11.3"
  }
 },
 "nbformat": 4,
 "nbformat_minor": 5
}
